{
 "cells": [
  {
   "cell_type": "code",
   "execution_count": 35,
   "metadata": {},
   "outputs": [],
   "source": [
    "#obtain data from https://www.ourcommons.ca/en/open-data that is https://www.ourcommons.ca/Members/en/votes\n",
    "\n",
    "import pandas as pd\n",
    "dfs = pd.read_html('https://www.ourcommons.ca/Members/en/votes/43/2/185',header=0) #185th vote of 2nd session of 43rd parlamaint"
   ]
  },
  {
   "cell_type": "code",
   "execution_count": 36,
   "metadata": {},
   "outputs": [],
   "source": [
    "df = dfs[0] #to obtain the data ??? data only exists in first fosition of dfs"
   ]
  },
  {
   "cell_type": "code",
   "execution_count": 37,
   "metadata": {},
   "outputs": [
    {
     "data": {
      "text/plain": [
       "(332, 4)"
      ]
     },
     "execution_count": 37,
     "metadata": {},
     "output_type": "execute_result"
    }
   ],
   "source": [
    "#single vote\n",
    "df.shape #332 members had casted vote for this bill"
   ]
  },
  {
   "cell_type": "code",
   "execution_count": 38,
   "metadata": {},
   "outputs": [],
   "source": [
    "df.columns = ['Member','Party','Vote','Paired'] #rename the column headers"
   ]
  },
  {
   "cell_type": "code",
   "execution_count": 39,
   "metadata": {},
   "outputs": [
    {
     "data": {
      "text/html": [
       "<div>\n",
       "<style scoped>\n",
       "    .dataframe tbody tr th:only-of-type {\n",
       "        vertical-align: middle;\n",
       "    }\n",
       "\n",
       "    .dataframe tbody tr th {\n",
       "        vertical-align: top;\n",
       "    }\n",
       "\n",
       "    .dataframe thead th {\n",
       "        text-align: right;\n",
       "    }\n",
       "</style>\n",
       "<table border=\"1\" class=\"dataframe\">\n",
       "  <thead>\n",
       "    <tr style=\"text-align: right;\">\n",
       "      <th></th>\n",
       "      <th>Party</th>\n",
       "    </tr>\n",
       "  </thead>\n",
       "  <tbody>\n",
       "    <tr>\n",
       "      <th>Liberal</th>\n",
       "      <td>152</td>\n",
       "    </tr>\n",
       "    <tr>\n",
       "      <th>Conservative</th>\n",
       "      <td>118</td>\n",
       "    </tr>\n",
       "    <tr>\n",
       "      <th>Bloc Québécois</th>\n",
       "      <td>32</td>\n",
       "    </tr>\n",
       "    <tr>\n",
       "      <th>NDP</th>\n",
       "      <td>23</td>\n",
       "    </tr>\n",
       "    <tr>\n",
       "      <th>Independent</th>\n",
       "      <td>5</td>\n",
       "    </tr>\n",
       "    <tr>\n",
       "      <th>Green Party</th>\n",
       "      <td>2</td>\n",
       "    </tr>\n",
       "  </tbody>\n",
       "</table>\n",
       "</div>"
      ],
      "text/plain": [
       "                Party\n",
       "Liberal           152\n",
       "Conservative      118\n",
       "Bloc Québécois     32\n",
       "NDP                23\n",
       "Independent         5\n",
       "Green Party         2"
      ]
     },
     "execution_count": 39,
     "metadata": {},
     "output_type": "execute_result"
    }
   ],
   "source": [
    "df['Party'].value_counts().to_frame() #distribution per party .value_counts() method"
   ]
  },
  {
   "cell_type": "code",
   "execution_count": 40,
   "metadata": {},
   "outputs": [
    {
     "data": {
      "text/html": [
       "<div>\n",
       "<style scoped>\n",
       "    .dataframe tbody tr th:only-of-type {\n",
       "        vertical-align: middle;\n",
       "    }\n",
       "\n",
       "    .dataframe tbody tr th {\n",
       "        vertical-align: top;\n",
       "    }\n",
       "\n",
       "    .dataframe thead th {\n",
       "        text-align: right;\n",
       "    }\n",
       "</style>\n",
       "<table border=\"1\" class=\"dataframe\">\n",
       "  <thead>\n",
       "    <tr style=\"text-align: right;\">\n",
       "      <th></th>\n",
       "      <th>Vote</th>\n",
       "    </tr>\n",
       "  </thead>\n",
       "  <tbody>\n",
       "    <tr>\n",
       "      <th>Yea</th>\n",
       "      <td>211</td>\n",
       "    </tr>\n",
       "    <tr>\n",
       "      <th>Nay</th>\n",
       "      <td>121</td>\n",
       "    </tr>\n",
       "  </tbody>\n",
       "</table>\n",
       "</div>"
      ],
      "text/plain": [
       "     Vote\n",
       "Yea   211\n",
       "Nay   121"
      ]
     },
     "execution_count": 40,
     "metadata": {},
     "output_type": "execute_result"
    }
   ],
   "source": [
    "df['Vote'].value_counts().to_frame() #distribution per vote Y or N"
   ]
  },
  {
   "cell_type": "code",
   "execution_count": 63,
   "metadata": {},
   "outputs": [],
   "source": [
    "#all votes 44TH PARLIAMENT, 1st SESSION \n",
    "# TypeId=3 in URL returns only government bills, TypeId=4 returns only private members bills\n",
    "\n",
    "#dfs_vote_list = pd.read_html('https://www.ourcommons.ca/Members/en/votes?parlSession=44-1&billDocumentTypeId=3',header=0)\n",
    "dfs_vote_list = pd.read_html('https://www.ourcommons.ca/Members/en/votes?parlSession=44-1&billDocumentTypeId=4',header=0)\n",
    "vote_list = dfs_vote_list[0]"
   ]
  },
  {
   "cell_type": "code",
   "execution_count": 67,
   "metadata": {},
   "outputs": [],
   "source": [
    "#[initialize global variables:]\n",
    "#count type variables for collection of data set to 0 initially\n",
    "# party line and non party line variable for each party so we’ll know how many of each category we’ve seen\n",
    "total_votes = 0\n",
    "partyLineVotesConservative = 0 \n",
    "non_partyLineVotesConservative = 0\n",
    "partyLineVotesLiberal = 0 \n",
    "non_partyLineVotesLiberal = 0\n",
    "partyLineVotesNDP = 0 \n",
    "non_partyLineVotesNDP = 0\n",
    "partyLineVotesBloc = 0 \n",
    "non_partyLineVotesBloc = 0\n",
    "partyLineVotesIndependent = 0 \n",
    "non_partyLineVotesIndependent = 0\n",
    "partyLineVotesGreen = 0 \n",
    "non_partyLineVotesGreen = 0"
   ]
  },
  {
   "cell_type": "code",
   "execution_count": 68,
   "metadata": {},
   "outputs": [],
   "source": [
    "#function to gather the results\n",
    "# Functions for categorizing and tabulating votes by party:\n",
    "#iterate through four functions - one for each party\n",
    "def liberal_votes():\n",
    "    global partyLineVotesLiberal \n",
    "    global non_partyLineVotesLiberal\n",
    "    \n",
    "    df_party = df[df['Party'].str.contains('Liberal')]\n",
    "    vote_output_yea = df_party['Vote'].str.contains('Yea')\n",
    "    total_votes_yea = vote_output_yea.sum()\n",
    "    vote_output_nay = df_party['Vote'].str.contains('Nay')\n",
    "    total_votes_nay = vote_output_nay.sum()\n",
    "    if total_votes_yea>0 and total_votes_nay>0:\n",
    "        non_partyLineVotesLiberal += 1\n",
    "    else:\n",
    "        partyLineVotesLiberal += 1\n",
    "    \n",
    "def conservative_votes():\n",
    "    global partyLineVotesConservative \n",
    "    global non_partyLineVotesConservative\n",
    "    \n",
    "    df_party = df[df['Party'].str.contains('Conservative')]\n",
    "    vote_output_yea = df_party['Vote'].str.contains('Yea')\n",
    "    total_votes_yea = vote_output_yea.sum()\n",
    "    vote_output_nay = df_party['Vote'].str.contains('Nay')\n",
    "    total_votes_nay = vote_output_nay.sum()\n",
    "    if total_votes_yea>0 and total_votes_nay>0:\n",
    "        non_partyLineVotesConservative += 1\n",
    "    else:\n",
    "        partyLineVotesConservative += 1\n",
    "        \n",
    "def ndp_votes():\n",
    "    global partyLineVotesNDP \n",
    "    global non_partyLineVotesNDP\n",
    "\n",
    "    df_party = df[df['Party'].str.contains('NDP')]\n",
    "    vote_output_yea = df_party['Vote'].str.contains('Yea')\n",
    "    total_votes_yea = vote_output_yea.sum()\n",
    "    vote_output_nay = df_party['Vote'].str.contains('Nay')\n",
    "    total_votes_nay = vote_output_nay.sum()\n",
    "    if total_votes_yea>0 and total_votes_nay>0:\n",
    "        non_partyLineVotesNDP += 1\n",
    "    else:\n",
    "        partyLineVotesNDP += 1\n",
    "    \n",
    "def bloc_votes():\n",
    "    global partyLineVotesBloc \n",
    "    global non_partyLineVotesBloc\n",
    "\n",
    "    df_party = df[df['Party'].str.contains('Bloc')]\n",
    "    vote_output_yea = df_party['Vote'].str.contains('Yea')\n",
    "    total_votes_yea = vote_output_yea.sum()\n",
    "    vote_output_nay = df_party['Vote'].str.contains('Nay')\n",
    "    total_votes_nay = vote_output_nay.sum()\n",
    "    if total_votes_yea>0 and total_votes_nay>0:\n",
    "        non_partyLineVotesBloc += 1\n",
    "    else:\n",
    "        partyLineVotesBloc += 1\n",
    "        \n",
    "def independent_votes():\n",
    "    global partyLineVotesIndependent \n",
    "    global non_partyLineVotesIndependent\n",
    "\n",
    "    df_party = df[df['Party'].str.contains('Indep')]\n",
    "    vote_output_yea = df_party['Vote'].str.contains('Yea')\n",
    "    total_votes_yea = vote_output_yea.sum()\n",
    "    vote_output_nay = df_party['Vote'].str.contains('Nay')\n",
    "    total_votes_nay = vote_output_nay.sum()\n",
    "    if total_votes_yea>0 and total_votes_nay>0:\n",
    "        non_partyLineVotesIndependent += 1\n",
    "    else:\n",
    "        partyLineVotesIndependent += 1\n",
    "        \n",
    "def green_votes():\n",
    "    global partyLineVotesGreen\n",
    "    global non_partyLineVotesGreen\n",
    "\n",
    "    df_party = df[df['Party'].str.contains('Gree')]\n",
    "    vote_output_yea = df_party['Vote'].str.contains('Yea')\n",
    "    total_votes_yea = vote_output_yea.sum()\n",
    "    vote_output_nay = df_party['Vote'].str.contains('Nay')\n",
    "    total_votes_nay = vote_output_nay.sum()\n",
    "    if total_votes_yea>0 and total_votes_nay>0:\n",
    "        non_partyLineVotesGreen += 1\n",
    "    else:\n",
    "        partyLineVotesGreen += 1"
   ]
  },
  {
   "cell_type": "code",
   "execution_count": 66,
   "metadata": {},
   "outputs": [],
   "source": [
    "# Build URL list from master Votes page: - list of the URLs we’ll be scraping\n",
    "\n",
    "#dfs_vote_list = pd.read_html('https://www.ourcommons.ca/Members/en/votes?parlSession=44-1&billDocumentTypeId=3',header=0) #government bills\n",
    "dfs_vote_list = pd.read_html('https://www.ourcommons.ca/Members/en/votes?parlSession=44-1&billDocumentTypeId=4',header=0) #private bills\n",
    "\n",
    "vote_list = dfs_vote_list[0]\n",
    "vote_list.columns = ['Number','Type','Subject','Votes','Result','Date']\n",
    "vote_list['Number'] = vote_list['Number'].str.extract('(\\d+)', expand=False) #strip out all non-numeric characters, leaving us with just the numbers themselves\n",
    "base_url = \"https://www.ourcommons.ca/Members/en/votes/44/1/\""
   ]
  },
  {
   "cell_type": "code",
   "execution_count": 69,
   "metadata": {},
   "outputs": [],
   "source": [
    "url_data = pd.DataFrame(columns=[\"Vote\"]) #new dataframe to contain our set of production-ready URLs\n",
    "Vote = []\n",
    "for name in vote_list['Number']:\n",
    "    newUrl = base_url + name\n",
    "    Vote.append(newUrl)\n",
    "url_data[\"Vote\"] = Vote"
   ]
  },
  {
   "cell_type": "code",
   "execution_count": 70,
   "metadata": {},
   "outputs": [],
   "source": [
    "# Run this only once!!!\n",
    "#as it will add a second (or third) identical set of URLs to the file, doubling (or tripling) \n",
    "# the number of requests your program will make.\n",
    "\n",
    "#url_data.to_csv(r'url-text-44-1-government.csv', header=None, index=None, sep=' ', mode='a') #if 3 is selected government bills\n",
    "url_data.to_csv(r'url-text-44-1-privatemembers.csv',  header=None, index=None, sep=' ', mode='a') #if 4 is selected private bills"
   ]
  },
  {
   "cell_type": "code",
   "execution_count": 71,
   "metadata": {},
   "outputs": [],
   "source": [
    "# Read URLs - Tends to render rather long ~ 8:00 min for 3, and ~3:00 for 4\n",
    "\n",
    "#URLS = open(\"url-text-44-1-government.csv\",\"r\") #if 3 is selected government bills\n",
    "URLS = open(\"url-text-44-1-privatemembers.csv\",\"r\") #if 4 is selected private bills\n",
    "\n",
    "for url in URLS:\n",
    "    # Read next HTML page in set:\n",
    "    dfs = pd.read_html(url,header=0)\n",
    "    df = dfs[0]\n",
    "    df.rename(columns={'Member Voted':'Vote'}, inplace=True)\n",
    "    df.rename(columns={'Political Affiliation':'Party'}, inplace=True)\n",
    "    # Ignore unanimous votes:\n",
    "    vote_output_nay = df[df['Vote'].str.contains('Nay', na=False)]\n",
    "    total_votes_nay = vote_output_nay['Vote'].str.contains('Nay', na=False)\n",
    "    filtered_votes = total_votes_nay.sum()\n",
    "    if filtered_votes==0:\n",
    "        continue\n",
    "    # Call functions to tabulate votes:\n",
    "    else:\n",
    "        liberal_votes()\n",
    "        conservative_votes()\n",
    "        ndp_votes()\n",
    "        bloc_votes()\n",
    "\n",
    "        total_votes += 1"
   ]
  },
  {
   "cell_type": "code",
   "execution_count": 72,
   "metadata": {},
   "outputs": [
    {
     "name": "stdout",
     "output_type": "stream",
     "text": [
      "We counted 13 votes in total.\n",
      "Conservative members voted the party line 13 times, and split their vote 0 times.\n",
      "Liberal members voted the party line 4 times, and split their vote 9 times.\n",
      "NDP members voted the party line 13 times, and split their vote 0 times.\n",
      "Bloc members voted the party line 13 times, and split their vote 0 times.\n",
      "Independent members voted the party line 0 times, and split their vote 0 times.\n",
      "Green members voted the party line 0 times, and split their vote 0 times.\n"
     ]
    }
   ],
   "source": [
    "print(\"We counted\", total_votes, \"votes in total.\")\n",
    "\n",
    "print(\"Conservative members voted the party line\", partyLineVotesConservative, \n",
    "      \"times, and split their vote\", non_partyLineVotesConservative, \"times.\")\n",
    "\n",
    "print(\"Liberal members voted the party line\", partyLineVotesLiberal, \n",
    "      \"times, and split their vote\", non_partyLineVotesLiberal, \"times.\")\n",
    "\n",
    "print(\"NDP members voted the party line\", partyLineVotesNDP, \n",
    "      \"times, and split their vote\", non_partyLineVotesNDP, \"times.\")\n",
    "    \n",
    "print(\"Bloc members voted the party line\", partyLineVotesBloc, \n",
    "      \"times, and split their vote\", non_partyLineVotesBloc, \"times.\")\n",
    "\n",
    "print(\"Independent members voted the party line\", partyLineVotesIndependent, \n",
    "      \"times, and split their vote\", non_partyLineVotesIndependent, \"times.\")\n",
    "\n",
    "print(\"Green members voted the party line\", partyLineVotesGreen, \n",
    "      \"times, and split their vote\", non_partyLineVotesGreen, \"times.\")"
   ]
  },
  {
   "cell_type": "code",
   "execution_count": 74,
   "metadata": {},
   "outputs": [
    {
     "name": "stdout",
     "output_type": "stream",
     "text": [
      "          Party  Party-line votes  Non-party-line votes\n",
      "0  Conservative                13                     0\n",
      "1       Liberal                 4                     9\n",
      "2           NDP                13                     0\n",
      "3          Bloc                13                     0\n",
      "4   Independent                 0                     0\n",
      "5         Green                 0                     0\n"
     ]
    }
   ],
   "source": [
    "data = {'Party': ['Conservative', 'Liberal', 'NDP', 'Bloc', 'Independent', 'Green'],\n",
    "'Party-line votes': [13, 4, 13, 13, 0, 0], #manually feed the values in array\n",
    "'Non-party-line votes': [0, 9, 0, 0, 0, 0]} ##manually feed the values in array\n",
    "dfdata = pd.DataFrame (data, columns = ['Party', 'Party-line votes', 'Non-party-line votes'])\n",
    "\n",
    "print(dfdata)"
   ]
  },
  {
   "cell_type": "code",
   "execution_count": 75,
   "metadata": {},
   "outputs": [
    {
     "data": {
      "text/html": [
       "<div>\n",
       "<style scoped>\n",
       "    .dataframe tbody tr th:only-of-type {\n",
       "        vertical-align: middle;\n",
       "    }\n",
       "\n",
       "    .dataframe tbody tr th {\n",
       "        vertical-align: top;\n",
       "    }\n",
       "\n",
       "    .dataframe thead th {\n",
       "        text-align: right;\n",
       "    }\n",
       "</style>\n",
       "<table border=\"1\" class=\"dataframe\">\n",
       "  <thead>\n",
       "    <tr style=\"text-align: right;\">\n",
       "      <th></th>\n",
       "      <th>Party</th>\n",
       "      <th>Party-line votes</th>\n",
       "      <th>Non-party-line votes</th>\n",
       "      <th>percentage</th>\n",
       "    </tr>\n",
       "  </thead>\n",
       "  <tbody>\n",
       "    <tr>\n",
       "      <th>0</th>\n",
       "      <td>Conservative</td>\n",
       "      <td>13</td>\n",
       "      <td>0</td>\n",
       "      <td>0.000000</td>\n",
       "    </tr>\n",
       "    <tr>\n",
       "      <th>1</th>\n",
       "      <td>Liberal</td>\n",
       "      <td>4</td>\n",
       "      <td>9</td>\n",
       "      <td>0.209302</td>\n",
       "    </tr>\n",
       "    <tr>\n",
       "      <th>2</th>\n",
       "      <td>NDP</td>\n",
       "      <td>13</td>\n",
       "      <td>0</td>\n",
       "      <td>0.000000</td>\n",
       "    </tr>\n",
       "    <tr>\n",
       "      <th>3</th>\n",
       "      <td>Bloc</td>\n",
       "      <td>13</td>\n",
       "      <td>0</td>\n",
       "      <td>0.000000</td>\n",
       "    </tr>\n",
       "    <tr>\n",
       "      <th>4</th>\n",
       "      <td>Independent</td>\n",
       "      <td>0</td>\n",
       "      <td>0</td>\n",
       "      <td>0.000000</td>\n",
       "    </tr>\n",
       "    <tr>\n",
       "      <th>5</th>\n",
       "      <td>Green</td>\n",
       "      <td>0</td>\n",
       "      <td>0</td>\n",
       "      <td>0.000000</td>\n",
       "    </tr>\n",
       "  </tbody>\n",
       "</table>\n",
       "</div>"
      ],
      "text/plain": [
       "          Party  Party-line votes  Non-party-line votes  percentage\n",
       "0  Conservative                13                     0    0.000000\n",
       "1       Liberal                 4                     9    0.209302\n",
       "2           NDP                13                     0    0.000000\n",
       "3          Bloc                13                     0    0.000000\n",
       "4   Independent                 0                     0    0.000000\n",
       "5         Green                 0                     0    0.000000"
      ]
     },
     "execution_count": 75,
     "metadata": {},
     "output_type": "execute_result"
    }
   ],
   "source": [
    "dfdata['percentage']= dfdata['Non-party-line votes']/dfdata['Party-line votes'].sum()\n",
    "dfdata"
   ]
  },
  {
   "cell_type": "code",
   "execution_count": 76,
   "metadata": {},
   "outputs": [
    {
     "data": {
      "text/plain": [
       "<AxesSubplot:>"
      ]
     },
     "execution_count": 76,
     "metadata": {},
     "output_type": "execute_result"
    },
    {
     "data": {
      "image/png": "[encoded data removed]",
      "text/plain": [
       "<Figure size 432x288 with 1 Axes>"
      ]
     },
     "metadata": {
      "needs_background": "light"
     },
     "output_type": "display_data"
    }
   ],
   "source": [
    "dfdata.plot(kind='bar')"
   ]
  }
 ],
 "metadata": {
  "kernelspec": {
   "display_name": "Python 3.9.7 ('base')",
   "language": "python",
   "name": "python3"
  },
  "language_info": {
   "codemirror_mode": {
    "name": "ipython",
    "version": 3
   },
   "file_extension": ".py",
   "mimetype": "text/x-python",
   "name": "python",
   "nbconvert_exporter": "python",
   "pygments_lexer": "ipython3",
   "version": "3.9.7"
  },
  "orig_nbformat": 4,
  "vscode": {
   "interpreter": {
    "hash": "ad2bdc8ecc057115af97d19610ffacc2b4e99fae6737bb82f5d7fb13d2f2c186"
   }
  }
 },
 "nbformat": 4,
 "nbformat_minor": 2
}
